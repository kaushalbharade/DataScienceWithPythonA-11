{
 "cells": [
  {
   "cell_type": "code",
   "execution_count": 1,
   "id": "9282a5b1",
   "metadata": {},
   "outputs": [
    {
     "name": "stdout",
     "output_type": "stream",
     "text": [
      "a is greater then b\n"
     ]
    }
   ],
   "source": [
    "# simple If (if Condition is True)\n",
    "a=5\n",
    "b=3\n",
    "if(a>b):\n",
    "    print(\"a is greater then b\")"
   ]
  },
  {
   "cell_type": "code",
   "execution_count": 2,
   "id": "14571229",
   "metadata": {},
   "outputs": [],
   "source": [
    "# simple If (if Condition is False)\n",
    "a=3\n",
    "b=5\n",
    "if(a>b):\n",
    "    print(\"a is greater then b\")"
   ]
  },
  {
   "cell_type": "code",
   "execution_count": 3,
   "id": "b46f38fb",
   "metadata": {},
   "outputs": [
    {
     "name": "stdout",
     "output_type": "stream",
     "text": [
      "b is greater then a\n"
     ]
    }
   ],
   "source": [
    "# simple If else (if Condition is False)\n",
    "a=3\n",
    "b=5\n",
    "if(a>b):\n",
    "    print(\"a is greater then b\")\n",
    "else:\n",
    "    print(\"b is greater then a\")"
   ]
  },
  {
   "cell_type": "code",
   "execution_count": 4,
   "id": "fd95f69d",
   "metadata": {},
   "outputs": [
    {
     "name": "stdout",
     "output_type": "stream",
     "text": [
      "I am Not in if\n"
     ]
    }
   ],
   "source": [
    "# python program to illustrate If statement\n",
    " \n",
    "i = 10\n",
    " \n",
    "if (i > 15):\n",
    "    print(\"10 is less than 15\")\n",
    "print(\"I am Not in if\")\n"
   ]
  },
  {
   "cell_type": "code",
   "execution_count": 5,
   "id": "4758481f",
   "metadata": {},
   "outputs": [
    {
     "name": "stdout",
     "output_type": "stream",
     "text": [
      "Enter the value of a\n",
      "None11\n",
      "Enter the value of b\n",
      "None11\n",
      "b is greater then a, b= 11\n"
     ]
    }
   ],
   "source": [
    "# If else (user define)\n",
    "a=int(input(print(\"Enter the value of a\")))\n",
    "b=int(input(print(\"Enter the value of b\")))\n",
    "if(a>b):\n",
    "    print(\"a is greater then b\",a)\n",
    "else:\n",
    "    print(\"b is greater then a, b=\",b)"
   ]
  },
  {
   "cell_type": "code",
   "execution_count": 6,
   "id": "4b346869",
   "metadata": {},
   "outputs": [
    {
     "name": "stdout",
     "output_type": "stream",
     "text": [
      "Enter your age18\n",
      "Eligible for voting\n"
     ]
    }
   ],
   "source": [
    "# Write a program to check whether a person is eligible for voting or not. (accept age from user)\n",
    "age=int(input(\"Enter your age\"))\n",
    "if age >=18:\n",
    "   print(\"Eligible for voting\")\n",
    "else:\n",
    "   print(\"not eligible for voting\")"
   ]
  },
  {
   "cell_type": "code",
   "execution_count": 7,
   "id": "78d55b40",
   "metadata": {},
   "outputs": [
    {
     "name": "stdout",
     "output_type": "stream",
     "text": [
      "Enter your age11\n",
      "Number is Odd\n"
     ]
    }
   ],
   "source": [
    "# Write a program to check whether a number entered by user is even or odd.\n",
    "num=int(input(\"Enter your age\"))\n",
    "if num%2==0:\n",
    "   print(\"Number is Even\")\n",
    "else:\n",
    "   print(\"Number is Odd\")"
   ]
  },
  {
   "cell_type": "code",
   "execution_count": 8,
   "id": "d39fe3bc",
   "metadata": {},
   "outputs": [
    {
     "name": "stdout",
     "output_type": "stream",
     "text": [
      "Enter your age20\n",
      "Number is not divisible\n"
     ]
    }
   ],
   "source": [
    "#Write a program to check whether a number is divisible by 7 or not.\n",
    "num=int(input(\"Enter your age\"))\n",
    "if num%7==0:\n",
    "   print(\"Number is divisible\")\n",
    "else:\n",
    "   print(\"Number is not divisible\")\n"
   ]
  },
  {
   "cell_type": "code",
   "execution_count": 9,
   "id": "0e9f7829",
   "metadata": {},
   "outputs": [
    {
     "name": "stdout",
     "output_type": "stream",
     "text": [
      "Enter number of electric unit200\n",
      "Amount to pay : 500\n"
     ]
    }
   ],
   "source": [
    "'''Write a program to calculate the electricity bill (accept number of unit from user) according to the following criteria :\n",
    "             Unit                                               Price  \n",
    "First 100 units                                             no charge\n",
    "Next 100 units                                              Rs 5 per unit\n",
    "After 200 units                                             Rs 10 per unit\n",
    "(For example if input unit is 350 than total bill amount is Rs2000)'''\n",
    "\n",
    "\n",
    "amt=0\n",
    "nu=int(input(\"Enter number of electric unit\"))\n",
    "if nu<=100:\n",
    "     amt=0\n",
    "if nu>100 and nu<=200:\n",
    "     amt=(nu-100)*5\n",
    "if nu>200:\n",
    "     amt=500+(nu-200)*10\n",
    "print(\"Amount to pay :\",amt)"
   ]
  },
  {
   "cell_type": "code",
   "execution_count": 10,
   "id": "5f03444b",
   "metadata": {},
   "outputs": [
    {
     "name": "stdout",
     "output_type": "stream",
     "text": [
      "Enter marks90\n",
      "Grade is B\n"
     ]
    }
   ],
   "source": [
    "'''Write a program to accept percentage from the user and display the grade according to the following criteria:\n",
    "\n",
    "         Marks                                    Grade\n",
    "         > 90                                         A\n",
    "         > 80 and <= 90                               B\n",
    "         >= 60 and <= 80                              C\n",
    "         below 60                                     D'''\n",
    "        \n",
    "per = int(input(\"Enter marks\"))\n",
    "if per > 90:\n",
    "    print(\"Grade is A\")\n",
    "if per > 80 and per <=90:\n",
    "    print(\"Grade is B\")\n",
    "if per >=60 and per <= 80:\n",
    "    print(\"Grade is C\")\n",
    "if per < 60:\n",
    "    print(\"Grade is D\")"
   ]
  }
 ],
 "metadata": {
  "kernelspec": {
   "display_name": "Python 3 (ipykernel)",
   "language": "python",
   "name": "python3"
  },
  "language_info": {
   "codemirror_mode": {
    "name": "ipython",
    "version": 3
   },
   "file_extension": ".py",
   "mimetype": "text/x-python",
   "name": "python",
   "nbconvert_exporter": "python",
   "pygments_lexer": "ipython3",
   "version": "3.9.7"
  }
 },
 "nbformat": 4,
 "nbformat_minor": 5
}
