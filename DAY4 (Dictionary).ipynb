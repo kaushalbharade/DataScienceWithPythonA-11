{
 "cells": [
  {
   "cell_type": "markdown",
   "id": "16e5fa99",
   "metadata": {},
   "source": [
    "# Dictionary"
   ]
  },
  {
   "cell_type": "markdown",
   "id": "7fd19865",
   "metadata": {},
   "source": [
    " Dictionary is a part of data structure"
   ]
  },
  {
   "cell_type": "code",
   "execution_count": 1,
   "id": "6620425c",
   "metadata": {},
   "outputs": [],
   "source": [
    "d={'a':10,'b':20,'c':30}"
   ]
  },
  {
   "cell_type": "code",
   "execution_count": 3,
   "id": "b8ca2364",
   "metadata": {},
   "outputs": [
    {
     "data": {
      "text/plain": [
       "dict"
      ]
     },
     "execution_count": 3,
     "metadata": {},
     "output_type": "execute_result"
    }
   ],
   "source": [
    "D={\"ashish\":10, \"Vikram\":20,\"Satish\":33,\"Ajmat\":40}\n",
    "\n",
    "type(D)"
   ]
  },
  {
   "cell_type": "code",
   "execution_count": 6,
   "id": "fc639fb7",
   "metadata": {},
   "outputs": [
    {
     "data": {
      "text/plain": [
       "4"
      ]
     },
     "execution_count": 6,
     "metadata": {},
     "output_type": "execute_result"
    }
   ],
   "source": [
    "D={\"ashish\":10, \"Vikram\":20,\"Satish\":33,\"Ajmat\":40}\n",
    "len(D)"
   ]
  },
  {
   "cell_type": "code",
   "execution_count": 4,
   "id": "f8ac33a6",
   "metadata": {},
   "outputs": [
    {
     "data": {
      "text/plain": [
       "dict_keys(['ashish', 'Vikram', 'Satish', 'Ajmat'])"
      ]
     },
     "execution_count": 4,
     "metadata": {},
     "output_type": "execute_result"
    }
   ],
   "source": [
    "#Extracting keys from dictionary python\n",
    "D={\"ashish\":10, \"Vikram\":20,\"Satish\":33,\"Ajmat\":40}\n",
    "D.keys()"
   ]
  },
  {
   "cell_type": "code",
   "execution_count": 5,
   "id": "c5616282",
   "metadata": {},
   "outputs": [
    {
     "data": {
      "text/plain": [
       "dict_values([10, 20, 33, 40])"
      ]
     },
     "execution_count": 5,
     "metadata": {},
     "output_type": "execute_result"
    }
   ],
   "source": [
    "#Extracting keys from dictionary python\n",
    "D={\"ashish\":10, \"Vikram\":20,\"Satish\":33,\"Ajmat\":40}\n",
    "D.values()"
   ]
  },
  {
   "cell_type": "code",
   "execution_count": 12,
   "id": "40086eb1",
   "metadata": {},
   "outputs": [
    {
     "name": "stdout",
     "output_type": "stream",
     "text": [
      "{'ashish': 10, 'Vikram': 20, 'Satish': 33, 'Ajmat': 40, 'Salman': 50}\n"
     ]
    }
   ],
   "source": [
    "#adding A New element to pythin dictionary\n",
    "D={\"ashish\":10, \"Vikram\":20,\"Satish\":33,\"Ajmat\":40}\n",
    "D[\"Salman\"]=50\n",
    "print(D)"
   ]
  },
  {
   "cell_type": "code",
   "execution_count": 15,
   "id": "39f32476",
   "metadata": {},
   "outputs": [
    {
     "name": "stdout",
     "output_type": "stream",
     "text": [
      "{'ashish': 50, 'Vikram': 20, 'Satish': 33, 'Ajmat': 40}\n"
     ]
    }
   ],
   "source": [
    "#changing an existing element to the Python Dictionary\n",
    "D={\"ashish\":10, \"Vikram\":20,\"Satish\":33,\"Ajmat\":40}\n",
    "D[\"ashish\"]=50\n",
    "print(D)"
   ]
  },
  {
   "cell_type": "code",
   "execution_count": 18,
   "id": "00a22231",
   "metadata": {},
   "outputs": [
    {
     "name": "stdout",
     "output_type": "stream",
     "text": [
      "{'ashish': 10, 'Satish': 33, 'Ajmat': 40}\n"
     ]
    }
   ],
   "source": [
    "#Popping element Dictionary in python\n",
    "D={\"ashish\":10, \"Vikram\":20,\"Satish\":33,\"Ajmat\":40}\n",
    "D.pop(\"Vikram\")\n",
    "print(D)"
   ]
  },
  {
   "cell_type": "code",
   "execution_count": 19,
   "id": "346ab75e",
   "metadata": {},
   "outputs": [
    {
     "name": "stdout",
     "output_type": "stream",
     "text": [
      "{'ashish': 10, 'Vikram': 20, 'Satish': 33, 'Ajmat': 40}\n"
     ]
    }
   ],
   "source": [
    "#Update one dictionary element with another Dictionary \n",
    "D1={\"ashish\":10, \"Vikram\":20,}\n",
    "D2={\"Satish\":33,\"Ajmat\":40}\n",
    "D1.update(D2)\n",
    "print(D1)"
   ]
  },
  {
   "cell_type": "code",
   "execution_count": null,
   "id": "99312296",
   "metadata": {},
   "outputs": [],
   "source": []
  }
 ],
 "metadata": {
  "kernelspec": {
   "display_name": "Python 3 (ipykernel)",
   "language": "python",
   "name": "python3"
  },
  "language_info": {
   "codemirror_mode": {
    "name": "ipython",
    "version": 3
   },
   "file_extension": ".py",
   "mimetype": "text/x-python",
   "name": "python",
   "nbconvert_exporter": "python",
   "pygments_lexer": "ipython3",
   "version": "3.9.7"
  }
 },
 "nbformat": 4,
 "nbformat_minor": 5
}
